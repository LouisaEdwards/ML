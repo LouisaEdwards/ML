{
  "nbformat": 4,
  "nbformat_minor": 0,
  "metadata": {
    "colab": {
      "name": "EV_Project.ipynb",
      "provenance": [],
      "collapsed_sections": [],
      "include_colab_link": true
    },
    "kernelspec": {
      "display_name": "Python 3",
      "name": "python3"
    },
    "language_info": {
      "name": "python"
    },
    "accelerator": "GPU"
  },
  "cells": [
    {
      "cell_type": "markdown",
      "metadata": {
        "id": "view-in-github",
        "colab_type": "text"
      },
      "source": [
        "<a href=\"https://colab.research.google.com/github/LouisaEdwards/ML/blob/main/EV_Project.ipynb\" target=\"_parent\"><img src=\"https://colab.research.google.com/assets/colab-badge.svg\" alt=\"Open In Colab\"/></a>"
      ]
    },
    {
      "cell_type": "markdown",
      "metadata": {
        "id": "R6UaNYafvxrF"
      },
      "source": [
        "### **Electric Vehicles for Virginia**\n",
        "ML4VA Project - Fall 2021\n",
        "\n",
        "Louisa Edwards, Justin (Da) Lin, Tingwei Zhang\n"
      ]
    },
    {
      "cell_type": "markdown",
      "metadata": {
        "id": "n6x9yKDasr56"
      },
      "source": [
        "# Set Up"
      ]
    },
    {
      "cell_type": "code",
      "metadata": {
        "colab": {
          "base_uri": "https://localhost:8080/",
          "height": 399
        },
        "id": "yN264tXW644V",
        "outputId": "1706e374-98b2-4175-bcec-3262c354a63a"
      },
      "source": [
        "# download Anvil (for our user interface)\n",
        "!pip install anvil-uplink"
      ],
      "execution_count": null,
      "outputs": [
        {
          "output_type": "stream",
          "name": "stdout",
          "text": [
            "Collecting anvil-uplink\n",
            "  Downloading anvil_uplink-0.3.41-py2.py3-none-any.whl (64 kB)\n",
            "\u001b[?25l\r\u001b[K     |█████                           | 10 kB 19.3 MB/s eta 0:00:01\r\u001b[K     |██████████▏                     | 20 kB 8.3 MB/s eta 0:00:01\r\u001b[K     |███████████████▎                | 30 kB 6.6 MB/s eta 0:00:01\r\u001b[K     |████████████████████▎           | 40 kB 3.5 MB/s eta 0:00:01\r\u001b[K     |█████████████████████████▍      | 51 kB 4.0 MB/s eta 0:00:01\r\u001b[K     |██████████████████████████████▌ | 61 kB 4.5 MB/s eta 0:00:01\r\u001b[K     |████████████████████████████████| 64 kB 1.9 MB/s \n",
            "\u001b[?25hRequirement already satisfied: six in /usr/local/lib/python3.7/dist-packages (from anvil-uplink) (1.15.0)\n",
            "Requirement already satisfied: future in /usr/local/lib/python3.7/dist-packages (from anvil-uplink) (0.16.0)\n",
            "Collecting argparse\n",
            "  Downloading argparse-1.4.0-py2.py3-none-any.whl (23 kB)\n",
            "Collecting ws4py\n",
            "  Downloading ws4py-0.5.1.tar.gz (51 kB)\n",
            "\u001b[K     |████████████████████████████████| 51 kB 205 kB/s \n",
            "\u001b[?25hBuilding wheels for collected packages: ws4py\n",
            "  Building wheel for ws4py (setup.py) ... \u001b[?25l\u001b[?25hdone\n",
            "  Created wheel for ws4py: filename=ws4py-0.5.1-py3-none-any.whl size=45230 sha256=48b8598bff9edbd814bffb79a7746a7321501a9bcb360a619bb70bec38105075\n",
            "  Stored in directory: /root/.cache/pip/wheels/29/ea/7d/3410aa0aa0e4402ead9a7a97ab2214804887e0f5c2b76f0c96\n",
            "Successfully built ws4py\n",
            "Installing collected packages: ws4py, argparse, anvil-uplink\n",
            "Successfully installed anvil-uplink-0.3.41 argparse-1.4.0 ws4py-0.5.1\n"
          ]
        },
        {
          "output_type": "display_data",
          "data": {
            "application/vnd.colab-display-data+json": {
              "pip_warning": {
                "packages": [
                  "argparse",
                  "google"
                ]
              }
            }
          },
          "metadata": {}
        }
      ]
    },
    {
      "cell_type": "code",
      "metadata": {
        "id": "IJWRoeic6_Om"
      },
      "source": [
        "# import anvil\n",
        "import anvil.server"
      ],
      "execution_count": null,
      "outputs": []
    },
    {
      "cell_type": "code",
      "metadata": {
        "id": "lr3kc9Zd4iU_",
        "colab": {
          "base_uri": "https://localhost:8080/"
        },
        "outputId": "d55b7444-b3b2-4393-94e0-7fc1b87eb97e"
      },
      "source": [
        "# connect to the serveer \n",
        "anvil.server.connect(\"JK6AMGF4YZGL6NB3TGV3CKPM-DYH5DX3R4JNVKDC6\")"
      ],
      "execution_count": null,
      "outputs": [
        {
          "output_type": "stream",
          "name": "stdout",
          "text": [
            "Connecting to wss://anvil.works/uplink\n",
            "Anvil websocket open\n",
            "Connected to \"Default environment\" as SERVER\n"
          ]
        }
      ]
    },
    {
      "cell_type": "markdown",
      "metadata": {
        "id": "45GADNmenQB9"
      },
      "source": [
        "# Getting the Data"
      ]
    },
    {
      "cell_type": "code",
      "metadata": {
        "id": "FteN3sQaS_kZ"
      },
      "source": [
        "# import statements\n",
        "import os\n",
        "import numpy as np\n",
        "import matplotlib\n",
        "import matplotlib.pyplot as plt\n",
        "import pandas as pd\n",
        "from sklearn.impute import SimpleImputer\n",
        "from sklearn.preprocessing import LabelEncoder\n",
        "from sklearn.preprocessing import OneHotEncoder\n",
        "from sklearn.pipeline import Pipeline\n",
        "from sklearn.preprocessing import StandardScaler\n",
        "np.random.seed(42)\n",
        "\n",
        "# function to load the data\n",
        "PATH = \"sample_data\"\n",
        "def load_car_data(PATH=PATH):\n",
        "    csv_path = os.path.join(PATH, \"Cardata.csv\")\n",
        "    return pd.read_csv(csv_path)"
      ],
      "execution_count": null,
      "outputs": []
    },
    {
      "cell_type": "code",
      "metadata": {
        "colab": {
          "base_uri": "https://localhost:8080/",
          "height": 300
        },
        "id": "EWeyU74ITbCo",
        "outputId": "9a019d90-54eb-48f0-85a1-686649cc8f80"
      },
      "source": [
        "# load the data \n",
        "cardata = load_car_data()\n",
        "\n",
        "# get summary statistics \n",
        "cardata.describe()"
      ],
      "execution_count": null,
      "outputs": [
        {
          "output_type": "execute_result",
          "data": {
            "text/html": [
              "<div>\n",
              "<style scoped>\n",
              "    .dataframe tbody tr th:only-of-type {\n",
              "        vertical-align: middle;\n",
              "    }\n",
              "\n",
              "    .dataframe tbody tr th {\n",
              "        vertical-align: top;\n",
              "    }\n",
              "\n",
              "    .dataframe thead th {\n",
              "        text-align: right;\n",
              "    }\n",
              "</style>\n",
              "<table border=\"1\" class=\"dataframe\">\n",
              "  <thead>\n",
              "    <tr style=\"text-align: right;\">\n",
              "      <th></th>\n",
              "      <th>Year</th>\n",
              "      <th>MSRP</th>\n",
              "      <th>whether_recommended</th>\n",
              "      <th>tax_credit</th>\n",
              "      <th>number_of_seats</th>\n",
              "      <th>mixed_fuel_consumption_per_100_km_l</th>\n",
              "      <th>city_fuel_per_100km_l</th>\n",
              "      <th>highway_fuel_per_100km_l</th>\n",
              "      <th>D_Price</th>\n",
              "      <th>CO2_per_100km_kg</th>\n",
              "    </tr>\n",
              "  </thead>\n",
              "  <tbody>\n",
              "    <tr>\n",
              "      <th>count</th>\n",
              "      <td>13529.000000</td>\n",
              "      <td>1.352900e+04</td>\n",
              "      <td>13529.000000</td>\n",
              "      <td>116.000000</td>\n",
              "      <td>13529.000000</td>\n",
              "      <td>13488.000000</td>\n",
              "      <td>13488.000000</td>\n",
              "      <td>13488.000000</td>\n",
              "      <td>1.352900e+04</td>\n",
              "      <td>13529.000000</td>\n",
              "    </tr>\n",
              "    <tr>\n",
              "      <th>mean</th>\n",
              "      <td>2014.911819</td>\n",
              "      <td>5.487341e+04</td>\n",
              "      <td>0.008574</td>\n",
              "      <td>2211.413793</td>\n",
              "      <td>4.725774</td>\n",
              "      <td>7.270916</td>\n",
              "      <td>9.168103</td>\n",
              "      <td>6.041735</td>\n",
              "      <td>2.307302e+04</td>\n",
              "      <td>23.018700</td>\n",
              "    </tr>\n",
              "    <tr>\n",
              "      <th>std</th>\n",
              "      <td>3.358945</td>\n",
              "      <td>1.844806e+05</td>\n",
              "      <td>0.092202</td>\n",
              "      <td>3223.130177</td>\n",
              "      <td>0.801048</td>\n",
              "      <td>2.706524</td>\n",
              "      <td>3.683956</td>\n",
              "      <td>2.036485</td>\n",
              "      <td>1.119858e+05</td>\n",
              "      <td>8.393349</td>\n",
              "    </tr>\n",
              "    <tr>\n",
              "      <th>min</th>\n",
              "      <td>1994.000000</td>\n",
              "      <td>2.000000e+03</td>\n",
              "      <td>0.000000</td>\n",
              "      <td>0.000000</td>\n",
              "      <td>1.000000</td>\n",
              "      <td>3.000000</td>\n",
              "      <td>3.100000</td>\n",
              "      <td>2.900000</td>\n",
              "      <td>2.485084e+01</td>\n",
              "      <td>0.000000</td>\n",
              "    </tr>\n",
              "    <tr>\n",
              "      <th>25%</th>\n",
              "      <td>2015.000000</td>\n",
              "      <td>3.077500e+04</td>\n",
              "      <td>0.000000</td>\n",
              "      <td>0.000000</td>\n",
              "      <td>4.000000</td>\n",
              "      <td>5.300000</td>\n",
              "      <td>6.300000</td>\n",
              "      <td>4.600000</td>\n",
              "      <td>1.217061e+04</td>\n",
              "      <td>16.900000</td>\n",
              "    </tr>\n",
              "    <tr>\n",
              "      <th>50%</th>\n",
              "      <td>2016.000000</td>\n",
              "      <td>4.230000e+04</td>\n",
              "      <td>0.000000</td>\n",
              "      <td>0.000000</td>\n",
              "      <td>5.000000</td>\n",
              "      <td>6.600000</td>\n",
              "      <td>8.400000</td>\n",
              "      <td>5.600000</td>\n",
              "      <td>1.779258e+04</td>\n",
              "      <td>21.000000</td>\n",
              "    </tr>\n",
              "    <tr>\n",
              "      <th>75%</th>\n",
              "      <td>2016.000000</td>\n",
              "      <td>5.930000e+04</td>\n",
              "      <td>0.000000</td>\n",
              "      <td>4502.000000</td>\n",
              "      <td>5.000000</td>\n",
              "      <td>8.500000</td>\n",
              "      <td>11.200000</td>\n",
              "      <td>6.900000</td>\n",
              "      <td>2.657795e+04</td>\n",
              "      <td>26.700000</td>\n",
              "    </tr>\n",
              "    <tr>\n",
              "      <th>max</th>\n",
              "      <td>2018.000000</td>\n",
              "      <td>2.100000e+07</td>\n",
              "      <td>1.000000</td>\n",
              "      <td>7500.000000</td>\n",
              "      <td>8.000000</td>\n",
              "      <td>24.400000</td>\n",
              "      <td>34.500000</td>\n",
              "      <td>16.500000</td>\n",
              "      <td>1.289662e+07</td>\n",
              "      <td>76.600000</td>\n",
              "    </tr>\n",
              "  </tbody>\n",
              "</table>\n",
              "</div>"
            ],
            "text/plain": [
              "               Year          MSRP  ...       D_Price  CO2_per_100km_kg\n",
              "count  13529.000000  1.352900e+04  ...  1.352900e+04      13529.000000\n",
              "mean    2014.911819  5.487341e+04  ...  2.307302e+04         23.018700\n",
              "std        3.358945  1.844806e+05  ...  1.119858e+05          8.393349\n",
              "min     1994.000000  2.000000e+03  ...  2.485084e+01          0.000000\n",
              "25%     2015.000000  3.077500e+04  ...  1.217061e+04         16.900000\n",
              "50%     2016.000000  4.230000e+04  ...  1.779258e+04         21.000000\n",
              "75%     2016.000000  5.930000e+04  ...  2.657795e+04         26.700000\n",
              "max     2018.000000  2.100000e+07  ...  1.289662e+07         76.600000\n",
              "\n",
              "[8 rows x 10 columns]"
            ]
          },
          "metadata": {},
          "execution_count": 6
        }
      ]
    },
    {
      "cell_type": "code",
      "metadata": {
        "colab": {
          "base_uri": "https://localhost:8080/"
        },
        "id": "rGbeU4tkFa1_",
        "outputId": "1c0d7967-37e0-4fdf-a067-6a5d77a8f499"
      },
      "source": [
        "# get basic info about the data\n",
        "cardata.info()"
      ],
      "execution_count": null,
      "outputs": [
        {
          "output_type": "stream",
          "name": "stdout",
          "text": [
            "<class 'pandas.core.frame.DataFrame'>\n",
            "RangeIndex: 13529 entries, 0 to 13528\n",
            "Data columns (total 19 columns):\n",
            " #   Column                               Non-Null Count  Dtype  \n",
            "---  ------                               --------------  -----  \n",
            " 0   Make                                 13529 non-null  object \n",
            " 1   Model                                13529 non-null  object \n",
            " 2   Year                                 13529 non-null  int64  \n",
            " 3   Vehicle.Size                         13529 non-null  object \n",
            " 4   MSRP                                 13529 non-null  int64  \n",
            " 5   generation                           13529 non-null  object \n",
            " 6   series                               13529 non-null  object \n",
            " 7   trim                                 13529 non-null  object \n",
            " 8   engine_type                          13529 non-null  object \n",
            " 9   whether_recommended                  13529 non-null  int64  \n",
            " 10  tax_credit                           116 non-null    float64\n",
            " 11  number_of_seats                      13529 non-null  int64  \n",
            " 12  mixed_fuel_consumption_per_100_km_l  13488 non-null  float64\n",
            " 13  range_km                             11340 non-null  object \n",
            " 14  city_fuel_per_100km_l                13488 non-null  float64\n",
            " 15  fuel_grade                           13488 non-null  object \n",
            " 16  highway_fuel_per_100km_l             13488 non-null  float64\n",
            " 17  D_Price                              13529 non-null  float64\n",
            " 18  CO2_per_100km_kg                     13529 non-null  float64\n",
            "dtypes: float64(6), int64(4), object(9)\n",
            "memory usage: 2.0+ MB\n"
          ]
        }
      ]
    },
    {
      "cell_type": "code",
      "metadata": {
        "colab": {
          "base_uri": "https://localhost:8080/",
          "height": 330
        },
        "id": "9BWmnuNfVVh7",
        "outputId": "85792e3b-3e75-44e7-c0e9-f398195d7241"
      },
      "source": [
        "# look at the first five rows \n",
        "cardata.head()"
      ],
      "execution_count": null,
      "outputs": [
        {
          "output_type": "execute_result",
          "data": {
            "text/html": [
              "<div>\n",
              "<style scoped>\n",
              "    .dataframe tbody tr th:only-of-type {\n",
              "        vertical-align: middle;\n",
              "    }\n",
              "\n",
              "    .dataframe tbody tr th {\n",
              "        vertical-align: top;\n",
              "    }\n",
              "\n",
              "    .dataframe thead th {\n",
              "        text-align: right;\n",
              "    }\n",
              "</style>\n",
              "<table border=\"1\" class=\"dataframe\">\n",
              "  <thead>\n",
              "    <tr style=\"text-align: right;\">\n",
              "      <th></th>\n",
              "      <th>Make</th>\n",
              "      <th>Model</th>\n",
              "      <th>Year</th>\n",
              "      <th>Vehicle.Size</th>\n",
              "      <th>MSRP</th>\n",
              "      <th>generation</th>\n",
              "      <th>series</th>\n",
              "      <th>trim</th>\n",
              "      <th>engine_type</th>\n",
              "      <th>whether_recommended</th>\n",
              "      <th>tax_credit</th>\n",
              "      <th>number_of_seats</th>\n",
              "      <th>mixed_fuel_consumption_per_100_km_l</th>\n",
              "      <th>range_km</th>\n",
              "      <th>city_fuel_per_100km_l</th>\n",
              "      <th>fuel_grade</th>\n",
              "      <th>highway_fuel_per_100km_l</th>\n",
              "      <th>D_Price</th>\n",
              "      <th>CO2_per_100km_kg</th>\n",
              "    </tr>\n",
              "  </thead>\n",
              "  <tbody>\n",
              "    <tr>\n",
              "      <th>0</th>\n",
              "      <td>Aston Martin</td>\n",
              "      <td>DB7</td>\n",
              "      <td>2003</td>\n",
              "      <td>Compact</td>\n",
              "      <td>156300</td>\n",
              "      <td>2 generation</td>\n",
              "      <td>GT Coupe</td>\n",
              "      <td>5.9 MT</td>\n",
              "      <td>Gas</td>\n",
              "      <td>0</td>\n",
              "      <td>NaN</td>\n",
              "      <td>4</td>\n",
              "      <td>19.6</td>\n",
              "      <td>390|540</td>\n",
              "      <td>22.6</td>\n",
              "      <td>95</td>\n",
              "      <td>16.5</td>\n",
              "      <td>8384.933853</td>\n",
              "      <td>61.5</td>\n",
              "    </tr>\n",
              "    <tr>\n",
              "      <th>1</th>\n",
              "      <td>Aston Martin</td>\n",
              "      <td>DB7</td>\n",
              "      <td>2003</td>\n",
              "      <td>Compact</td>\n",
              "      <td>151800</td>\n",
              "      <td>2 generation</td>\n",
              "      <td>GT Coupe</td>\n",
              "      <td>5.9 MT</td>\n",
              "      <td>Gas</td>\n",
              "      <td>0</td>\n",
              "      <td>NaN</td>\n",
              "      <td>4</td>\n",
              "      <td>19.6</td>\n",
              "      <td>390|540</td>\n",
              "      <td>22.6</td>\n",
              "      <td>95</td>\n",
              "      <td>16.5</td>\n",
              "      <td>8143.525008</td>\n",
              "      <td>61.5</td>\n",
              "    </tr>\n",
              "    <tr>\n",
              "      <th>2</th>\n",
              "      <td>Aston Martin</td>\n",
              "      <td>DB7</td>\n",
              "      <td>2003</td>\n",
              "      <td>Compact</td>\n",
              "      <td>156300</td>\n",
              "      <td>2 generation</td>\n",
              "      <td>GT Coupe</td>\n",
              "      <td>5.9 MT</td>\n",
              "      <td>Gas</td>\n",
              "      <td>0</td>\n",
              "      <td>NaN</td>\n",
              "      <td>4</td>\n",
              "      <td>19.6</td>\n",
              "      <td>390|540</td>\n",
              "      <td>22.6</td>\n",
              "      <td>95</td>\n",
              "      <td>16.5</td>\n",
              "      <td>8384.933853</td>\n",
              "      <td>61.5</td>\n",
              "    </tr>\n",
              "    <tr>\n",
              "      <th>3</th>\n",
              "      <td>Aston Martin</td>\n",
              "      <td>DB7</td>\n",
              "      <td>2003</td>\n",
              "      <td>Compact</td>\n",
              "      <td>141800</td>\n",
              "      <td>2 generation</td>\n",
              "      <td>GT Coupe</td>\n",
              "      <td>5.9 MT</td>\n",
              "      <td>Gas</td>\n",
              "      <td>0</td>\n",
              "      <td>NaN</td>\n",
              "      <td>4</td>\n",
              "      <td>19.6</td>\n",
              "      <td>390|540</td>\n",
              "      <td>22.6</td>\n",
              "      <td>95</td>\n",
              "      <td>16.5</td>\n",
              "      <td>7607.060910</td>\n",
              "      <td>61.5</td>\n",
              "    </tr>\n",
              "    <tr>\n",
              "      <th>4</th>\n",
              "      <td>Audi</td>\n",
              "      <td>A3</td>\n",
              "      <td>2016</td>\n",
              "      <td>Compact</td>\n",
              "      <td>34200</td>\n",
              "      <td>8V [redesign]</td>\n",
              "      <td>Cabriolet</td>\n",
              "      <td>1.4 TFSI MT</td>\n",
              "      <td>Gas</td>\n",
              "      <td>0</td>\n",
              "      <td>NaN</td>\n",
              "      <td>4</td>\n",
              "      <td>5.3</td>\n",
              "      <td>720|1,140</td>\n",
              "      <td>6.9</td>\n",
              "      <td>95</td>\n",
              "      <td>4.4</td>\n",
              "      <td>15174.721687</td>\n",
              "      <td>16.6</td>\n",
              "    </tr>\n",
              "  </tbody>\n",
              "</table>\n",
              "</div>"
            ],
            "text/plain": [
              "           Make Model  ...       D_Price CO2_per_100km_kg\n",
              "0  Aston Martin   DB7  ...   8384.933853             61.5\n",
              "1  Aston Martin   DB7  ...   8143.525008             61.5\n",
              "2  Aston Martin   DB7  ...   8384.933853             61.5\n",
              "3  Aston Martin   DB7  ...   7607.060910             61.5\n",
              "4          Audi    A3  ...  15174.721687             16.6\n",
              "\n",
              "[5 rows x 19 columns]"
            ]
          },
          "metadata": {},
          "execution_count": 8
        }
      ]
    },
    {
      "cell_type": "code",
      "metadata": {
        "colab": {
          "base_uri": "https://localhost:8080/"
        },
        "id": "ABep3o8X9arh",
        "outputId": "ceac7b4b-d475-4866-c771-d3d4dbf072ff"
      },
      "source": [
        "# get the shape of the data\n",
        "cardata.shape"
      ],
      "execution_count": null,
      "outputs": [
        {
          "output_type": "execute_result",
          "data": {
            "text/plain": [
              "(13529, 19)"
            ]
          },
          "metadata": {},
          "execution_count": 9
        }
      ]
    },
    {
      "cell_type": "code",
      "metadata": {
        "colab": {
          "base_uri": "https://localhost:8080/"
        },
        "id": "2rtnyWlSSBWT",
        "outputId": "b26caf54-6d5d-446a-dda0-b44f0d4be566"
      },
      "source": [
        "# get the data type\n",
        "cardata.dtypes\n",
        "cardata['number_of_seats'].replace('5, 7','5')\n",
        "cardata['number_of_seats'].unique()"
      ],
      "execution_count": null,
      "outputs": [
        {
          "output_type": "execute_result",
          "data": {
            "text/plain": [
              "array([4, 5, 7, 2, 6, 8, 1])"
            ]
          },
          "metadata": {},
          "execution_count": 10
        }
      ]
    },
    {
      "cell_type": "code",
      "metadata": {
        "colab": {
          "base_uri": "https://localhost:8080/"
        },
        "id": "4UUoUH1IsAGf",
        "outputId": "510b545f-65e9-48fe-9178-ebfba155fbbd"
      },
      "source": [
        "# convert to an int\n",
        "cardata['number_of_seats'].astype('int64')"
      ],
      "execution_count": null,
      "outputs": [
        {
          "output_type": "execute_result",
          "data": {
            "text/plain": [
              "0        4\n",
              "1        4\n",
              "2        4\n",
              "3        4\n",
              "4        4\n",
              "        ..\n",
              "13524    5\n",
              "13525    5\n",
              "13526    5\n",
              "13527    5\n",
              "13528    5\n",
              "Name: number_of_seats, Length: 13529, dtype: int64"
            ]
          },
          "metadata": {},
          "execution_count": 11
        }
      ]
    },
    {
      "cell_type": "code",
      "metadata": {
        "colab": {
          "base_uri": "https://localhost:8080/"
        },
        "id": "gckR3Ea6paxy",
        "outputId": "f63fdfc4-abfd-4092-d942-d2a1cbbf9ec2"
      },
      "source": [
        "# view the engine type value counts\n",
        "print(cardata[\"engine_type\"].value_counts())"
      ],
      "execution_count": null,
      "outputs": [
        {
          "output_type": "stream",
          "name": "stdout",
          "text": [
            "Gas         9231\n",
            "Diesel      4165\n",
            "Hybrid        75\n",
            "Electric      41\n",
            "Ethanol       17\n",
            "Name: engine_type, dtype: int64\n"
          ]
        }
      ]
    },
    {
      "cell_type": "code",
      "metadata": {
        "colab": {
          "base_uri": "https://localhost:8080/"
        },
        "id": "2eANHaV_9c-u",
        "outputId": "88a91d7f-52f1-4f0e-8222-66dc4affe74a"
      },
      "source": [
        "# view the vehicle size value counts\n",
        "print(cardata[\"Vehicle.Size\"].value_counts())"
      ],
      "execution_count": null,
      "outputs": [
        {
          "output_type": "stream",
          "name": "stdout",
          "text": [
            "Midsize    6851\n",
            "Compact    5156\n",
            "Large      1522\n",
            "Name: Vehicle.Size, dtype: int64\n"
          ]
        }
      ]
    },
    {
      "cell_type": "markdown",
      "metadata": {
        "id": "jeps1rkapDQ4"
      },
      "source": [
        "# Exploratory Data Analysis"
      ]
    },
    {
      "cell_type": "code",
      "metadata": {
        "colab": {
          "base_uri": "https://localhost:8080/",
          "height": 802
        },
        "id": "1_F5XvLmP1Kt",
        "outputId": "5b29362e-19d8-4169-e4c9-4ea97bffdca0"
      },
      "source": [
        "# create scatterplots\n",
        "from pandas.plotting import scatter_matrix\n",
        "attributes = [\"Year\", \"MSRP\", \"whether_recommended\",\n",
        "              \"CO2_per_100km_kg\"]\n",
        "scatter_matrix(cardata[attributes], figsize=(12, 8))"
      ],
      "execution_count": null,
      "outputs": [
        {
          "output_type": "execute_result",
          "data": {
            "text/plain": [
              "array([[<matplotlib.axes._subplots.AxesSubplot object at 0x7fb42f5e0f90>,\n",
              "        <matplotlib.axes._subplots.AxesSubplot object at 0x7fb42f592490>,\n",
              "        <matplotlib.axes._subplots.AxesSubplot object at 0x7fb42f555590>,\n",
              "        <matplotlib.axes._subplots.AxesSubplot object at 0x7fb42f58c0d0>],\n",
              "       [<matplotlib.axes._subplots.AxesSubplot object at 0x7fb42f4cf1d0>,\n",
              "        <matplotlib.axes._subplots.AxesSubplot object at 0x7fb42f5047d0>,\n",
              "        <matplotlib.axes._subplots.AxesSubplot object at 0x7fb42f4bb310>,\n",
              "        <matplotlib.axes._subplots.AxesSubplot object at 0x7fb42f484690>],\n",
              "       [<matplotlib.axes._subplots.AxesSubplot object at 0x7fb42f48eb50>,\n",
              "        <matplotlib.axes._subplots.AxesSubplot object at 0x7fb42f3d0190>,\n",
              "        <matplotlib.axes._subplots.AxesSubplot object at 0x7fb42f3ad650>,\n",
              "        <matplotlib.axes._subplots.AxesSubplot object at 0x7fb42f362190>],\n",
              "       [<matplotlib.axes._subplots.AxesSubplot object at 0x7fb42f321290>,\n",
              "        <matplotlib.axes._subplots.AxesSubplot object at 0x7fb42f2d8890>,\n",
              "        <matplotlib.axes._subplots.AxesSubplot object at 0x7fb42f28f3d0>,\n",
              "        <matplotlib.axes._subplots.AxesSubplot object at 0x7fb42f24f4d0>]],\n",
              "      dtype=object)"
            ]
          },
          "metadata": {},
          "execution_count": 14
        },
        {
          "output_type": "display_data",
          "data": {
            "image/png": "[encoded data removed]",
            "text/plain": [
              "<Figure size 864x576 with 16 Axes>"
            ]
          },
          "metadata": {
            "needs_background": "light"
          }
        }
      ]
    },
    {
      "cell_type": "code",
      "metadata": {
        "colab": {
          "base_uri": "https://localhost:8080/"
        },
        "id": "Zh8DRK5HQ0xN",
        "outputId": "7b8d3ac4-26d0-400e-8afe-e36b347598ae"
      },
      "source": [
        "# look at correlation between price and other features\n",
        "corr_matrix = cardata.corr()\n",
        "corr_matrix[\"MSRP\"].sort_values(ascending=False)"
      ],
      "execution_count": null,
      "outputs": [
        {
          "output_type": "execute_result",
          "data": {
            "text/plain": [
              "MSRP                                   1.000000\n",
              "D_Price                                0.996482\n",
              "city_fuel_per_100km_l                  0.408710\n",
              "mixed_fuel_consumption_per_100_km_l    0.311881\n",
              "highway_fuel_per_100km_l               0.244361\n",
              "whether_recommended                    0.080337\n",
              "Year                                   0.049984\n",
              "CO2_per_100km_kg                       0.045014\n",
              "tax_credit                            -0.059933\n",
              "number_of_seats                       -0.127629\n",
              "Name: MSRP, dtype: float64"
            ]
          },
          "metadata": {},
          "execution_count": 15
        }
      ]
    },
    {
      "cell_type": "code",
      "metadata": {
        "id": "36uG3auBQ84t"
      },
      "source": [
        "# separate the regular cars from the hybrid and electric cars\n",
        "regular = cardata[cardata['whether_recommended'] ==0 ]\n",
        "recommend = cardata[cardata['whether_recommended'] > 0]"
      ],
      "execution_count": null,
      "outputs": []
    },
    {
      "cell_type": "code",
      "metadata": {
        "colab": {
          "base_uri": "https://localhost:8080/",
          "height": 330
        },
        "id": "LEe2J2t_RVNx",
        "outputId": "dee53f36-c6cf-4ca3-b273-a1fa373db130"
      },
      "source": [
        "# look at the first five rows of regular cars\n",
        "regular.head()"
      ],
      "execution_count": null,
      "outputs": [
        {
          "output_type": "execute_result",
          "data": {
            "text/html": [
              "<div>\n",
              "<style scoped>\n",
              "    .dataframe tbody tr th:only-of-type {\n",
              "        vertical-align: middle;\n",
              "    }\n",
              "\n",
              "    .dataframe tbody tr th {\n",
              "        vertical-align: top;\n",
              "    }\n",
              "\n",
              "    .dataframe thead th {\n",
              "        text-align: right;\n",
              "    }\n",
              "</style>\n",
              "<table border=\"1\" class=\"dataframe\">\n",
              "  <thead>\n",
              "    <tr style=\"text-align: right;\">\n",
              "      <th></th>\n",
              "      <th>Make</th>\n",
              "      <th>Model</th>\n",
              "      <th>Year</th>\n",
              "      <th>Vehicle.Size</th>\n",
              "      <th>MSRP</th>\n",
              "      <th>generation</th>\n",
              "      <th>series</th>\n",
              "      <th>trim</th>\n",
              "      <th>engine_type</th>\n",
              "      <th>whether_recommended</th>\n",
              "      <th>tax_credit</th>\n",
              "      <th>number_of_seats</th>\n",
              "      <th>mixed_fuel_consumption_per_100_km_l</th>\n",
              "      <th>range_km</th>\n",
              "      <th>city_fuel_per_100km_l</th>\n",
              "      <th>fuel_grade</th>\n",
              "      <th>highway_fuel_per_100km_l</th>\n",
              "      <th>D_Price</th>\n",
              "      <th>CO2_per_100km_kg</th>\n",
              "    </tr>\n",
              "  </thead>\n",
              "  <tbody>\n",
              "    <tr>\n",
              "      <th>0</th>\n",
              "      <td>Aston Martin</td>\n",
              "      <td>DB7</td>\n",
              "      <td>2003</td>\n",
              "      <td>Compact</td>\n",
              "      <td>156300</td>\n",
              "      <td>2 generation</td>\n",
              "      <td>GT Coupe</td>\n",
              "      <td>5.9 MT</td>\n",
              "      <td>Gas</td>\n",
              "      <td>0</td>\n",
              "      <td>NaN</td>\n",
              "      <td>4</td>\n",
              "      <td>19.6</td>\n",
              "      <td>390|540</td>\n",
              "      <td>22.6</td>\n",
              "      <td>95</td>\n",
              "      <td>16.5</td>\n",
              "      <td>8384.933853</td>\n",
              "      <td>61.5</td>\n",
              "    </tr>\n",
              "    <tr>\n",
              "      <th>1</th>\n",
              "      <td>Aston Martin</td>\n",
              "      <td>DB7</td>\n",
              "      <td>2003</td>\n",
              "      <td>Compact</td>\n",
              "      <td>151800</td>\n",
              "      <td>2 generation</td>\n",
              "      <td>GT Coupe</td>\n",
              "      <td>5.9 MT</td>\n",
              "      <td>Gas</td>\n",
              "      <td>0</td>\n",
              "      <td>NaN</td>\n",
              "      <td>4</td>\n",
              "      <td>19.6</td>\n",
              "      <td>390|540</td>\n",
              "      <td>22.6</td>\n",
              "      <td>95</td>\n",
              "      <td>16.5</td>\n",
              "      <td>8143.525008</td>\n",
              "      <td>61.5</td>\n",
              "    </tr>\n",
              "    <tr>\n",
              "      <th>2</th>\n",
              "      <td>Aston Martin</td>\n",
              "      <td>DB7</td>\n",
              "      <td>2003</td>\n",
              "      <td>Compact</td>\n",
              "      <td>156300</td>\n",
              "      <td>2 generation</td>\n",
              "      <td>GT Coupe</td>\n",
              "      <td>5.9 MT</td>\n",
              "      <td>Gas</td>\n",
              "      <td>0</td>\n",
              "      <td>NaN</td>\n",
              "      <td>4</td>\n",
              "      <td>19.6</td>\n",
              "      <td>390|540</td>\n",
              "      <td>22.6</td>\n",
              "      <td>95</td>\n",
              "      <td>16.5</td>\n",
              "      <td>8384.933853</td>\n",
              "      <td>61.5</td>\n",
              "    </tr>\n",
              "    <tr>\n",
              "      <th>3</th>\n",
              "      <td>Aston Martin</td>\n",
              "      <td>DB7</td>\n",
              "      <td>2003</td>\n",
              "      <td>Compact</td>\n",
              "      <td>141800</td>\n",
              "      <td>2 generation</td>\n",
              "      <td>GT Coupe</td>\n",
              "      <td>5.9 MT</td>\n",
              "      <td>Gas</td>\n",
              "      <td>0</td>\n",
              "      <td>NaN</td>\n",
              "      <td>4</td>\n",
              "      <td>19.6</td>\n",
              "      <td>390|540</td>\n",
              "      <td>22.6</td>\n",
              "      <td>95</td>\n",
              "      <td>16.5</td>\n",
              "      <td>7607.060910</td>\n",
              "      <td>61.5</td>\n",
              "    </tr>\n",
              "    <tr>\n",
              "      <th>4</th>\n",
              "      <td>Audi</td>\n",
              "      <td>A3</td>\n",
              "      <td>2016</td>\n",
              "      <td>Compact</td>\n",
              "      <td>34200</td>\n",
              "      <td>8V [redesign]</td>\n",
              "      <td>Cabriolet</td>\n",
              "      <td>1.4 TFSI MT</td>\n",
              "      <td>Gas</td>\n",
              "      <td>0</td>\n",
              "      <td>NaN</td>\n",
              "      <td>4</td>\n",
              "      <td>5.3</td>\n",
              "      <td>720|1,140</td>\n",
              "      <td>6.9</td>\n",
              "      <td>95</td>\n",
              "      <td>4.4</td>\n",
              "      <td>15174.721687</td>\n",
              "      <td>16.6</td>\n",
              "    </tr>\n",
              "  </tbody>\n",
              "</table>\n",
              "</div>"
            ],
            "text/plain": [
              "           Make Model  ...       D_Price CO2_per_100km_kg\n",
              "0  Aston Martin   DB7  ...   8384.933853             61.5\n",
              "1  Aston Martin   DB7  ...   8143.525008             61.5\n",
              "2  Aston Martin   DB7  ...   8384.933853             61.5\n",
              "3  Aston Martin   DB7  ...   7607.060910             61.5\n",
              "4          Audi    A3  ...  15174.721687             16.6\n",
              "\n",
              "[5 rows x 19 columns]"
            ]
          },
          "metadata": {},
          "execution_count": 17
        }
      ]
    },
    {
      "cell_type": "code",
      "metadata": {
        "colab": {
          "base_uri": "https://localhost:8080/",
          "height": 300
        },
        "id": "yv79ClwuR2Mi",
        "outputId": "d5e6593a-3f86-41da-88f3-10830711fb2f"
      },
      "source": [
        "# basic summary statistics \n",
        "regular.describe()"
      ],
      "execution_count": null,
      "outputs": [
        {
          "output_type": "execute_result",
          "data": {
            "text/html": [
              "<div>\n",
              "<style scoped>\n",
              "    .dataframe tbody tr th:only-of-type {\n",
              "        vertical-align: middle;\n",
              "    }\n",
              "\n",
              "    .dataframe tbody tr th {\n",
              "        vertical-align: top;\n",
              "    }\n",
              "\n",
              "    .dataframe thead th {\n",
              "        text-align: right;\n",
              "    }\n",
              "</style>\n",
              "<table border=\"1\" class=\"dataframe\">\n",
              "  <thead>\n",
              "    <tr style=\"text-align: right;\">\n",
              "      <th></th>\n",
              "      <th>Year</th>\n",
              "      <th>MSRP</th>\n",
              "      <th>whether_recommended</th>\n",
              "      <th>tax_credit</th>\n",
              "      <th>number_of_seats</th>\n",
              "      <th>mixed_fuel_consumption_per_100_km_l</th>\n",
              "      <th>city_fuel_per_100km_l</th>\n",
              "      <th>highway_fuel_per_100km_l</th>\n",
              "      <th>D_Price</th>\n",
              "      <th>CO2_per_100km_kg</th>\n",
              "    </tr>\n",
              "  </thead>\n",
              "  <tbody>\n",
              "    <tr>\n",
              "      <th>count</th>\n",
              "      <td>13413.000000</td>\n",
              "      <td>13413.000000</td>\n",
              "      <td>13413.0</td>\n",
              "      <td>0.0</td>\n",
              "      <td>13413.000000</td>\n",
              "      <td>13413.000000</td>\n",
              "      <td>13413.000000</td>\n",
              "      <td>13413.000000</td>\n",
              "      <td>13413.000000</td>\n",
              "      <td>13413.000000</td>\n",
              "    </tr>\n",
              "    <tr>\n",
              "      <th>mean</th>\n",
              "      <td>2014.912324</td>\n",
              "      <td>53495.199806</td>\n",
              "      <td>0.0</td>\n",
              "      <td>NaN</td>\n",
              "      <td>4.724372</td>\n",
              "      <td>7.279036</td>\n",
              "      <td>9.180293</td>\n",
              "      <td>6.047008</td>\n",
              "      <td>22199.008521</td>\n",
              "      <td>23.115660</td>\n",
              "    </tr>\n",
              "    <tr>\n",
              "      <th>std</th>\n",
              "      <td>3.369161</td>\n",
              "      <td>40123.703632</td>\n",
              "      <td>0.0</td>\n",
              "      <td>NaN</td>\n",
              "      <td>0.800201</td>\n",
              "      <td>2.707177</td>\n",
              "      <td>3.682253</td>\n",
              "      <td>2.037646</td>\n",
              "      <td>17040.908926</td>\n",
              "      <td>8.309641</td>\n",
              "    </tr>\n",
              "    <tr>\n",
              "      <th>min</th>\n",
              "      <td>1994.000000</td>\n",
              "      <td>2000.000000</td>\n",
              "      <td>0.0</td>\n",
              "      <td>NaN</td>\n",
              "      <td>2.000000</td>\n",
              "      <td>3.400000</td>\n",
              "      <td>3.800000</td>\n",
              "      <td>3.100000</td>\n",
              "      <td>24.850835</td>\n",
              "      <td>11.300000</td>\n",
              "    </tr>\n",
              "    <tr>\n",
              "      <th>25%</th>\n",
              "      <td>2015.000000</td>\n",
              "      <td>30900.000000</td>\n",
              "      <td>0.0</td>\n",
              "      <td>NaN</td>\n",
              "      <td>4.000000</td>\n",
              "      <td>5.300000</td>\n",
              "      <td>6.300000</td>\n",
              "      <td>4.600000</td>\n",
              "      <td>12276.216734</td>\n",
              "      <td>17.000000</td>\n",
              "    </tr>\n",
              "    <tr>\n",
              "      <th>50%</th>\n",
              "      <td>2016.000000</td>\n",
              "      <td>42330.000000</td>\n",
              "      <td>0.0</td>\n",
              "      <td>NaN</td>\n",
              "      <td>5.000000</td>\n",
              "      <td>6.600000</td>\n",
              "      <td>8.400000</td>\n",
              "      <td>5.600000</td>\n",
              "      <td>17792.583031</td>\n",
              "      <td>21.400000</td>\n",
              "    </tr>\n",
              "    <tr>\n",
              "      <th>75%</th>\n",
              "      <td>2016.000000</td>\n",
              "      <td>59300.000000</td>\n",
              "      <td>0.0</td>\n",
              "      <td>NaN</td>\n",
              "      <td>5.000000</td>\n",
              "      <td>8.600000</td>\n",
              "      <td>11.200000</td>\n",
              "      <td>6.900000</td>\n",
              "      <td>26577.948219</td>\n",
              "      <td>27.000000</td>\n",
              "    </tr>\n",
              "    <tr>\n",
              "      <th>max</th>\n",
              "      <td>2017.000000</td>\n",
              "      <td>535500.000000</td>\n",
              "      <td>0.0</td>\n",
              "      <td>NaN</td>\n",
              "      <td>8.000000</td>\n",
              "      <td>24.400000</td>\n",
              "      <td>34.500000</td>\n",
              "      <td>16.500000</td>\n",
              "      <td>237604.194844</td>\n",
              "      <td>76.600000</td>\n",
              "    </tr>\n",
              "  </tbody>\n",
              "</table>\n",
              "</div>"
            ],
            "text/plain": [
              "               Year           MSRP  ...        D_Price  CO2_per_100km_kg\n",
              "count  13413.000000   13413.000000  ...   13413.000000      13413.000000\n",
              "mean    2014.912324   53495.199806  ...   22199.008521         23.115660\n",
              "std        3.369161   40123.703632  ...   17040.908926          8.309641\n",
              "min     1994.000000    2000.000000  ...      24.850835         11.300000\n",
              "25%     2015.000000   30900.000000  ...   12276.216734         17.000000\n",
              "50%     2016.000000   42330.000000  ...   17792.583031         21.400000\n",
              "75%     2016.000000   59300.000000  ...   26577.948219         27.000000\n",
              "max     2017.000000  535500.000000  ...  237604.194844         76.600000\n",
              "\n",
              "[8 rows x 10 columns]"
            ]
          },
          "metadata": {},
          "execution_count": 18
        }
      ]
    },
    {
      "cell_type": "code",
      "metadata": {
        "colab": {
          "base_uri": "https://localhost:8080/"
        },
        "id": "1CaHKKfLR8NW",
        "outputId": "161d5e11-7ca0-46fc-c5d5-861d34399a74"
      },
      "source": [
        "# shape\n",
        "regular.shape"
      ],
      "execution_count": null,
      "outputs": [
        {
          "output_type": "execute_result",
          "data": {
            "text/plain": [
              "(13413, 19)"
            ]
          },
          "metadata": {},
          "execution_count": 19
        }
      ]
    },
    {
      "cell_type": "code",
      "metadata": {
        "colab": {
          "base_uri": "https://localhost:8080/",
          "height": 916
        },
        "id": "kbYZYqcdP_iX",
        "outputId": "3d18c6b3-815f-4eee-d0fb-22cc1fe88845"
      },
      "source": [
        "scatter_matrix(regular[attributes], figsize=(12, 8))"
      ],
      "execution_count": null,
      "outputs": [
        {
          "output_type": "stream",
          "name": "stderr",
          "text": [
            "/usr/local/lib/python3.7/dist-packages/pandas/plotting/_matplotlib/misc.py:80: UserWarning: Attempting to set identical left == right == 0.0 results in singular transformations; automatically expanding.\n",
            "  ax.set_xlim(boundaries_list[j])\n",
            "/usr/local/lib/python3.7/dist-packages/pandas/plotting/_matplotlib/misc.py:81: UserWarning: Attempting to set identical bottom == top == 0.0 results in singular transformations; automatically expanding.\n",
            "  ax.set_ylim(boundaries_list[i])\n",
            "/usr/local/lib/python3.7/dist-packages/pandas/plotting/_matplotlib/misc.py:71: UserWarning: Attempting to set identical left == right == 0.0 results in singular transformations; automatically expanding.\n",
            "  ax.set_xlim(boundaries_list[i])\n"
          ]
        },
        {
          "output_type": "execute_result",
          "data": {
            "text/plain": [
              "array([[<matplotlib.axes._subplots.AxesSubplot object at 0x7fb42e921250>,\n",
              "        <matplotlib.axes._subplots.AxesSubplot object at 0x7fb42d8bb3d0>,\n",
              "        <matplotlib.axes._subplots.AxesSubplot object at 0x7fb42d8eb9d0>,\n",
              "        <matplotlib.axes._subplots.AxesSubplot object at 0x7fb42d8a4510>],\n",
              "       [<matplotlib.axes._subplots.AxesSubplot object at 0x7fb42d865610>,\n",
              "        <matplotlib.axes._subplots.AxesSubplot object at 0x7fb42d81a150>,\n",
              "        <matplotlib.axes._subplots.AxesSubplot object at 0x7fb42d7dd250>,\n",
              "        <matplotlib.axes._subplots.AxesSubplot object at 0x7fb42d7a6f90>],\n",
              "       [<matplotlib.axes._subplots.AxesSubplot object at 0x7fb42d7a6f50>,\n",
              "        <matplotlib.axes._subplots.AxesSubplot object at 0x7fb42d7675d0>,\n",
              "        <matplotlib.axes._subplots.AxesSubplot object at 0x7fb42d6c2a90>,\n",
              "        <matplotlib.axes._subplots.AxesSubplot object at 0x7fb42d67ba50>],\n",
              "       [<matplotlib.axes._subplots.AxesSubplot object at 0x7fb42d6b4490>,\n",
              "        <matplotlib.axes._subplots.AxesSubplot object at 0x7fb42d677690>,\n",
              "        <matplotlib.axes._subplots.AxesSubplot object at 0x7fb42d62e190>,\n",
              "        <matplotlib.axes._subplots.AxesSubplot object at 0x7fb42f5b0cd0>]],\n",
              "      dtype=object)"
            ]
          },
          "metadata": {},
          "execution_count": 20
        },
        {
          "output_type": "display_data",
          "data": {
            "image/png": "[encoded data removed]",
            "text/plain": [
              "<Figure size 864x576 with 16 Axes>"
            ]
          },
          "metadata": {
            "needs_background": "light"
          }
        }
      ]
    },
    {
      "cell_type": "code",
      "metadata": {
        "colab": {
          "base_uri": "https://localhost:8080/",
          "height": 278
        },
        "id": "S4TISwNURxm9",
        "outputId": "1f09f07b-ace4-4719-8002-b0859750f747"
      },
      "source": [
        "# look at the first five rows of electric and hybrid cars \n",
        "recommend.head()"
      ],
      "execution_count": null,
      "outputs": [
        {
          "output_type": "execute_result",
          "data": {
            "text/html": [
              "<div>\n",
              "<style scoped>\n",
              "    .dataframe tbody tr th:only-of-type {\n",
              "        vertical-align: middle;\n",
              "    }\n",
              "\n",
              "    .dataframe tbody tr th {\n",
              "        vertical-align: top;\n",
              "    }\n",
              "\n",
              "    .dataframe thead th {\n",
              "        text-align: right;\n",
              "    }\n",
              "</style>\n",
              "<table border=\"1\" class=\"dataframe\">\n",
              "  <thead>\n",
              "    <tr style=\"text-align: right;\">\n",
              "      <th></th>\n",
              "      <th>Make</th>\n",
              "      <th>Model</th>\n",
              "      <th>Year</th>\n",
              "      <th>Vehicle.Size</th>\n",
              "      <th>MSRP</th>\n",
              "      <th>generation</th>\n",
              "      <th>series</th>\n",
              "      <th>trim</th>\n",
              "      <th>engine_type</th>\n",
              "      <th>whether_recommended</th>\n",
              "      <th>tax_credit</th>\n",
              "      <th>number_of_seats</th>\n",
              "      <th>mixed_fuel_consumption_per_100_km_l</th>\n",
              "      <th>range_km</th>\n",
              "      <th>city_fuel_per_100km_l</th>\n",
              "      <th>fuel_grade</th>\n",
              "      <th>highway_fuel_per_100km_l</th>\n",
              "      <th>D_Price</th>\n",
              "      <th>CO2_per_100km_kg</th>\n",
              "    </tr>\n",
              "  </thead>\n",
              "  <tbody>\n",
              "    <tr>\n",
              "      <th>1636</th>\n",
              "      <td>Audi</td>\n",
              "      <td>e-tron</td>\n",
              "      <td>2018</td>\n",
              "      <td>Midsize</td>\n",
              "      <td>39500</td>\n",
              "      <td>1 generation</td>\n",
              "      <td>Crossover</td>\n",
              "      <td>55 quattro</td>\n",
              "      <td>Electric</td>\n",
              "      <td>1</td>\n",
              "      <td>7500.0</td>\n",
              "      <td>5</td>\n",
              "      <td>NaN</td>\n",
              "      <td>NaN</td>\n",
              "      <td>NaN</td>\n",
              "      <td>NaN</td>\n",
              "      <td>NaN</td>\n",
              "      <td>24257.937500</td>\n",
              "      <td>0.0</td>\n",
              "    </tr>\n",
              "    <tr>\n",
              "      <th>4364</th>\n",
              "      <td>BMW</td>\n",
              "      <td>i3</td>\n",
              "      <td>2013</td>\n",
              "      <td>Midsize</td>\n",
              "      <td>39900</td>\n",
              "      <td>I01</td>\n",
              "      <td>Hatchback</td>\n",
              "      <td>i3</td>\n",
              "      <td>Electric</td>\n",
              "      <td>1</td>\n",
              "      <td>7500.0</td>\n",
              "      <td>5</td>\n",
              "      <td>NaN</td>\n",
              "      <td>NaN</td>\n",
              "      <td>NaN</td>\n",
              "      <td>NaN</td>\n",
              "      <td>NaN</td>\n",
              "      <td>10872.371949</td>\n",
              "      <td>0.0</td>\n",
              "    </tr>\n",
              "    <tr>\n",
              "      <th>4365</th>\n",
              "      <td>BMW</td>\n",
              "      <td>i3</td>\n",
              "      <td>2017</td>\n",
              "      <td>Midsize</td>\n",
              "      <td>43395</td>\n",
              "      <td>I01 [redesign]</td>\n",
              "      <td>Hatchback</td>\n",
              "      <td>i3</td>\n",
              "      <td>Electric</td>\n",
              "      <td>1</td>\n",
              "      <td>7500.0</td>\n",
              "      <td>5</td>\n",
              "      <td>NaN</td>\n",
              "      <td>NaN</td>\n",
              "      <td>NaN</td>\n",
              "      <td>NaN</td>\n",
              "      <td>NaN</td>\n",
              "      <td>22652.461219</td>\n",
              "      <td>0.0</td>\n",
              "    </tr>\n",
              "    <tr>\n",
              "      <th>4366</th>\n",
              "      <td>BMW</td>\n",
              "      <td>i3</td>\n",
              "      <td>2017</td>\n",
              "      <td>Midsize</td>\n",
              "      <td>43395</td>\n",
              "      <td>I01 [redesign]</td>\n",
              "      <td>Hatchback</td>\n",
              "      <td>i3s</td>\n",
              "      <td>Electric</td>\n",
              "      <td>1</td>\n",
              "      <td>7500.0</td>\n",
              "      <td>5</td>\n",
              "      <td>NaN</td>\n",
              "      <td>NaN</td>\n",
              "      <td>NaN</td>\n",
              "      <td>NaN</td>\n",
              "      <td>NaN</td>\n",
              "      <td>22652.461219</td>\n",
              "      <td>0.0</td>\n",
              "    </tr>\n",
              "    <tr>\n",
              "      <th>4842</th>\n",
              "      <td>Chevrolet</td>\n",
              "      <td>Malibu</td>\n",
              "      <td>2015</td>\n",
              "      <td>Midsize</td>\n",
              "      <td>28195</td>\n",
              "      <td>9 generation</td>\n",
              "      <td>Sedan</td>\n",
              "      <td>1.8 AT</td>\n",
              "      <td>Hybrid</td>\n",
              "      <td>1</td>\n",
              "      <td>0.0</td>\n",
              "      <td>5</td>\n",
              "      <td>5.1</td>\n",
              "      <td>NaN</td>\n",
              "      <td>4.9</td>\n",
              "      <td>95</td>\n",
              "      <td>5.2</td>\n",
              "      <td>10633.730593</td>\n",
              "      <td>15.9</td>\n",
              "    </tr>\n",
              "  </tbody>\n",
              "</table>\n",
              "</div>"
            ],
            "text/plain": [
              "           Make   Model  ...       D_Price CO2_per_100km_kg\n",
              "1636       Audi  e-tron  ...  24257.937500              0.0\n",
              "4364        BMW      i3  ...  10872.371949              0.0\n",
              "4365        BMW      i3  ...  22652.461219              0.0\n",
              "4366        BMW      i3  ...  22652.461219              0.0\n",
              "4842  Chevrolet  Malibu  ...  10633.730593             15.9\n",
              "\n",
              "[5 rows x 19 columns]"
            ]
          },
          "metadata": {},
          "execution_count": 21
        }
      ]
    },
    {
      "cell_type": "code",
      "metadata": {
        "colab": {
          "base_uri": "https://localhost:8080/",
          "height": 300
        },
        "id": "9HQq0JiZR7AX",
        "outputId": "afb2dec6-bc4e-4c32-d489-873b622e862d"
      },
      "source": [
        "# basic summary statistics\n",
        "recommend.describe()"
      ],
      "execution_count": null,
      "outputs": [
        {
          "output_type": "execute_result",
          "data": {
            "text/html": [
              "<div>\n",
              "<style scoped>\n",
              "    .dataframe tbody tr th:only-of-type {\n",
              "        vertical-align: middle;\n",
              "    }\n",
              "\n",
              "    .dataframe tbody tr th {\n",
              "        vertical-align: top;\n",
              "    }\n",
              "\n",
              "    .dataframe thead th {\n",
              "        text-align: right;\n",
              "    }\n",
              "</style>\n",
              "<table border=\"1\" class=\"dataframe\">\n",
              "  <thead>\n",
              "    <tr style=\"text-align: right;\">\n",
              "      <th></th>\n",
              "      <th>Year</th>\n",
              "      <th>MSRP</th>\n",
              "      <th>whether_recommended</th>\n",
              "      <th>tax_credit</th>\n",
              "      <th>number_of_seats</th>\n",
              "      <th>mixed_fuel_consumption_per_100_km_l</th>\n",
              "      <th>city_fuel_per_100km_l</th>\n",
              "      <th>highway_fuel_per_100km_l</th>\n",
              "      <th>D_Price</th>\n",
              "      <th>CO2_per_100km_kg</th>\n",
              "    </tr>\n",
              "  </thead>\n",
              "  <tbody>\n",
              "    <tr>\n",
              "      <th>count</th>\n",
              "      <td>116.000000</td>\n",
              "      <td>1.160000e+02</td>\n",
              "      <td>116.0</td>\n",
              "      <td>116.000000</td>\n",
              "      <td>116.000000</td>\n",
              "      <td>75.000000</td>\n",
              "      <td>75.000000</td>\n",
              "      <td>75.000000</td>\n",
              "      <td>1.160000e+02</td>\n",
              "      <td>116.000000</td>\n",
              "    </tr>\n",
              "    <tr>\n",
              "      <th>mean</th>\n",
              "      <td>2014.853448</td>\n",
              "      <td>2.142352e+05</td>\n",
              "      <td>1.0</td>\n",
              "      <td>2211.413793</td>\n",
              "      <td>4.887931</td>\n",
              "      <td>5.818667</td>\n",
              "      <td>6.988000</td>\n",
              "      <td>5.098667</td>\n",
              "      <td>1.241341e+05</td>\n",
              "      <td>11.807241</td>\n",
              "    </tr>\n",
              "    <tr>\n",
              "      <th>std</th>\n",
              "      <td>1.833288</td>\n",
              "      <td>1.946761e+06</td>\n",
              "      <td>0.0</td>\n",
              "      <td>3223.130177</td>\n",
              "      <td>0.882403</td>\n",
              "      <td>2.152792</td>\n",
              "      <td>3.344336</td>\n",
              "      <td>1.561920</td>\n",
              "      <td>1.196235e+06</td>\n",
              "      <td>10.307214</td>\n",
              "    </tr>\n",
              "    <tr>\n",
              "      <th>min</th>\n",
              "      <td>2009.000000</td>\n",
              "      <td>6.160000e+03</td>\n",
              "      <td>1.0</td>\n",
              "      <td>0.000000</td>\n",
              "      <td>1.000000</td>\n",
              "      <td>3.000000</td>\n",
              "      <td>3.100000</td>\n",
              "      <td>2.900000</td>\n",
              "      <td>1.212746e+03</td>\n",
              "      <td>0.000000</td>\n",
              "    </tr>\n",
              "    <tr>\n",
              "      <th>25%</th>\n",
              "      <td>2015.000000</td>\n",
              "      <td>2.362500e+04</td>\n",
              "      <td>1.0</td>\n",
              "      <td>0.000000</td>\n",
              "      <td>5.000000</td>\n",
              "      <td>3.300000</td>\n",
              "      <td>3.100000</td>\n",
              "      <td>3.300000</td>\n",
              "      <td>8.755526e+03</td>\n",
              "      <td>0.000000</td>\n",
              "    </tr>\n",
              "    <tr>\n",
              "      <th>50%</th>\n",
              "      <td>2015.000000</td>\n",
              "      <td>2.924500e+04</td>\n",
              "      <td>1.0</td>\n",
              "      <td>0.000000</td>\n",
              "      <td>5.000000</td>\n",
              "      <td>5.900000</td>\n",
              "      <td>5.900000</td>\n",
              "      <td>5.800000</td>\n",
              "      <td>1.072425e+04</td>\n",
              "      <td>10.400000</td>\n",
              "    </tr>\n",
              "    <tr>\n",
              "      <th>75%</th>\n",
              "      <td>2016.000000</td>\n",
              "      <td>3.992000e+04</td>\n",
              "      <td>1.0</td>\n",
              "      <td>4502.000000</td>\n",
              "      <td>5.000000</td>\n",
              "      <td>7.400000</td>\n",
              "      <td>10.100000</td>\n",
              "      <td>6.000000</td>\n",
              "      <td>1.607885e+04</td>\n",
              "      <td>23.200000</td>\n",
              "    </tr>\n",
              "    <tr>\n",
              "      <th>max</th>\n",
              "      <td>2018.000000</td>\n",
              "      <td>2.100000e+07</td>\n",
              "      <td>1.0</td>\n",
              "      <td>7500.000000</td>\n",
              "      <td>7.000000</td>\n",
              "      <td>8.500000</td>\n",
              "      <td>10.700000</td>\n",
              "      <td>7.300000</td>\n",
              "      <td>1.289662e+07</td>\n",
              "      <td>26.700000</td>\n",
              "    </tr>\n",
              "  </tbody>\n",
              "</table>\n",
              "</div>"
            ],
            "text/plain": [
              "              Year          MSRP  ...       D_Price  CO2_per_100km_kg\n",
              "count   116.000000  1.160000e+02  ...  1.160000e+02        116.000000\n",
              "mean   2014.853448  2.142352e+05  ...  1.241341e+05         11.807241\n",
              "std       1.833288  1.946761e+06  ...  1.196235e+06         10.307214\n",
              "min    2009.000000  6.160000e+03  ...  1.212746e+03          0.000000\n",
              "25%    2015.000000  2.362500e+04  ...  8.755526e+03          0.000000\n",
              "50%    2015.000000  2.924500e+04  ...  1.072425e+04         10.400000\n",
              "75%    2016.000000  3.992000e+04  ...  1.607885e+04         23.200000\n",
              "max    2018.000000  2.100000e+07  ...  1.289662e+07         26.700000\n",
              "\n",
              "[8 rows x 10 columns]"
            ]
          },
          "metadata": {},
          "execution_count": 22
        }
      ]
    },
    {
      "cell_type": "code",
      "metadata": {
        "colab": {
          "base_uri": "https://localhost:8080/"
        },
        "id": "GxJRL7rJSAqd",
        "outputId": "a097354f-9161-44fb-84b5-d5e7f383685b"
      },
      "source": [
        "# shape\n",
        "recommend.shape"
      ],
      "execution_count": null,
      "outputs": [
        {
          "output_type": "execute_result",
          "data": {
            "text/plain": [
              "(116, 19)"
            ]
          },
          "metadata": {},
          "execution_count": 23
        }
      ]
    },
    {
      "cell_type": "code",
      "metadata": {
        "colab": {
          "base_uri": "https://localhost:8080/",
          "height": 910
        },
        "id": "d9UBwxqmSJAB",
        "outputId": "731128d3-efd2-4bd7-d06f-0c5953287a47"
      },
      "source": [
        "scatter_matrix(recommend[attributes], figsize=(12, 8))"
      ],
      "execution_count": null,
      "outputs": [
        {
          "output_type": "stream",
          "name": "stderr",
          "text": [
            "/usr/local/lib/python3.7/dist-packages/pandas/plotting/_matplotlib/misc.py:80: UserWarning: Attempting to set identical left == right == 1.0 results in singular transformations; automatically expanding.\n",
            "  ax.set_xlim(boundaries_list[j])\n",
            "/usr/local/lib/python3.7/dist-packages/pandas/plotting/_matplotlib/misc.py:81: UserWarning: Attempting to set identical bottom == top == 1.0 results in singular transformations; automatically expanding.\n",
            "  ax.set_ylim(boundaries_list[i])\n",
            "/usr/local/lib/python3.7/dist-packages/pandas/plotting/_matplotlib/misc.py:71: UserWarning: Attempting to set identical left == right == 1.0 results in singular transformations; automatically expanding.\n",
            "  ax.set_xlim(boundaries_list[i])\n"
          ]
        },
        {
          "output_type": "execute_result",
          "data": {
            "text/plain": [
              "array([[<matplotlib.axes._subplots.AxesSubplot object at 0x7fb42e92bed0>,\n",
              "        <matplotlib.axes._subplots.AxesSubplot object at 0x7fb42d346d10>,\n",
              "        <matplotlib.axes._subplots.AxesSubplot object at 0x7fb42d36b1d0>,\n",
              "        <matplotlib.axes._subplots.AxesSubplot object at 0x7fb42bb2b2d0>],\n",
              "       [<matplotlib.axes._subplots.AxesSubplot object at 0x7fb42bae08d0>,\n",
              "        <matplotlib.axes._subplots.AxesSubplot object at 0x7fb42ba98410>,\n",
              "        <matplotlib.axes._subplots.AxesSubplot object at 0x7fb42ba5a510>,\n",
              "        <matplotlib.axes._subplots.AxesSubplot object at 0x7fb42ba18d90>],\n",
              "       [<matplotlib.axes._subplots.AxesSubplot object at 0x7fb42ba2f290>,\n",
              "        <matplotlib.axes._subplots.AxesSubplot object at 0x7fb42b9e5890>,\n",
              "        <matplotlib.axes._subplots.AxesSubplot object at 0x7fb42b93f290>,\n",
              "        <matplotlib.axes._subplots.AxesSubplot object at 0x7fb42b901390>],\n",
              "       [<matplotlib.axes._subplots.AxesSubplot object at 0x7fb42b8b7990>,\n",
              "        <matplotlib.axes._subplots.AxesSubplot object at 0x7fb42b8f04d0>,\n",
              "        <matplotlib.axes._subplots.AxesSubplot object at 0x7fb42b8b25d0>,\n",
              "        <matplotlib.axes._subplots.AxesSubplot object at 0x7fb42b867110>]],\n",
              "      dtype=object)"
            ]
          },
          "metadata": {},
          "execution_count": 24
        },
        {
          "output_type": "display_data",
          "data": {
            "image/png": "[encoded data removed]",
            "text/plain": [
              "<Figure size 864x576 with 16 Axes>"
            ]
          },
          "metadata": {
            "needs_background": "light"
          }
        }
      ]
    },
    {
      "cell_type": "markdown",
      "metadata": {
        "id": "RtIizwBNoCs-"
      },
      "source": [
        "# Data Cleaning"
      ]
    },
    {
      "cell_type": "code",
      "metadata": {
        "colab": {
          "base_uri": "https://localhost:8080/",
          "height": 330
        },
        "id": "oaS8Z_dELgDh",
        "outputId": "e64ee670-8dc0-47ea-a2ca-bdacfaf45565"
      },
      "source": [
        "# remove the extra characters in the range column\n",
        "cardata['range_low'] = cardata['range_km'].str.split('|').str[0]\n",
        "cardata['range_high'] = cardata['range_km'].str.split('|').str[1]\n",
        "cardata.drop(columns='range_km')\n",
        "\n",
        "# extract the min and max values from the range column\n",
        "cardata['range_high'] = cardata['range_high'].str.replace(',', '').astype(float)\n",
        "cardata['range_low'] = cardata['range_low'].str.replace(',', '').astype(float)\n",
        "\n",
        "cardata.head()"
      ],
      "execution_count": null,
      "outputs": [
        {
          "output_type": "execute_result",
          "data": {
            "text/html": [
              "<div>\n",
              "<style scoped>\n",
              "    .dataframe tbody tr th:only-of-type {\n",
              "        vertical-align: middle;\n",
              "    }\n",
              "\n",
              "    .dataframe tbody tr th {\n",
              "        vertical-align: top;\n",
              "    }\n",
              "\n",
              "    .dataframe thead th {\n",
              "        text-align: right;\n",
              "    }\n",
              "</style>\n",
              "<table border=\"1\" class=\"dataframe\">\n",
              "  <thead>\n",
              "    <tr style=\"text-align: right;\">\n",
              "      <th></th>\n",
              "      <th>Make</th>\n",
              "      <th>Model</th>\n",
              "      <th>Year</th>\n",
              "      <th>Vehicle.Size</th>\n",
              "      <th>MSRP</th>\n",
              "      <th>generation</th>\n",
              "      <th>series</th>\n",
              "      <th>trim</th>\n",
              "      <th>engine_type</th>\n",
              "      <th>whether_recommended</th>\n",
              "      <th>tax_credit</th>\n",
              "      <th>number_of_seats</th>\n",
              "      <th>mixed_fuel_consumption_per_100_km_l</th>\n",
              "      <th>range_km</th>\n",
              "      <th>city_fuel_per_100km_l</th>\n",
              "      <th>fuel_grade</th>\n",
              "      <th>highway_fuel_per_100km_l</th>\n",
              "      <th>D_Price</th>\n",
              "      <th>CO2_per_100km_kg</th>\n",
              "      <th>range_low</th>\n",
              "      <th>range_high</th>\n",
              "    </tr>\n",
              "  </thead>\n",
              "  <tbody>\n",
              "    <tr>\n",
              "      <th>0</th>\n",
              "      <td>Aston Martin</td>\n",
              "      <td>DB7</td>\n",
              "      <td>2003</td>\n",
              "      <td>Compact</td>\n",
              "      <td>156300</td>\n",
              "      <td>2 generation</td>\n",
              "      <td>GT Coupe</td>\n",
              "      <td>5.9 MT</td>\n",
              "      <td>Gas</td>\n",
              "      <td>0</td>\n",
              "      <td>NaN</td>\n",
              "      <td>4</td>\n",
              "      <td>19.6</td>\n",
              "      <td>390|540</td>\n",
              "      <td>22.6</td>\n",
              "      <td>95</td>\n",
              "      <td>16.5</td>\n",
              "      <td>8384.933853</td>\n",
              "      <td>61.5</td>\n",
              "      <td>390.0</td>\n",
              "      <td>540.0</td>\n",
              "    </tr>\n",
              "    <tr>\n",
              "      <th>1</th>\n",
              "      <td>Aston Martin</td>\n",
              "      <td>DB7</td>\n",
              "      <td>2003</td>\n",
              "      <td>Compact</td>\n",
              "      <td>151800</td>\n",
              "      <td>2 generation</td>\n",
              "      <td>GT Coupe</td>\n",
              "      <td>5.9 MT</td>\n",
              "      <td>Gas</td>\n",
              "      <td>0</td>\n",
              "      <td>NaN</td>\n",
              "      <td>4</td>\n",
              "      <td>19.6</td>\n",
              "      <td>390|540</td>\n",
              "      <td>22.6</td>\n",
              "      <td>95</td>\n",
              "      <td>16.5</td>\n",
              "      <td>8143.525008</td>\n",
              "      <td>61.5</td>\n",
              "      <td>390.0</td>\n",
              "      <td>540.0</td>\n",
              "    </tr>\n",
              "    <tr>\n",
              "      <th>2</th>\n",
              "      <td>Aston Martin</td>\n",
              "      <td>DB7</td>\n",
              "      <td>2003</td>\n",
              "      <td>Compact</td>\n",
              "      <td>156300</td>\n",
              "      <td>2 generation</td>\n",
              "      <td>GT Coupe</td>\n",
              "      <td>5.9 MT</td>\n",
              "      <td>Gas</td>\n",
              "      <td>0</td>\n",
              "      <td>NaN</td>\n",
              "      <td>4</td>\n",
              "      <td>19.6</td>\n",
              "      <td>390|540</td>\n",
              "      <td>22.6</td>\n",
              "      <td>95</td>\n",
              "      <td>16.5</td>\n",
              "      <td>8384.933853</td>\n",
              "      <td>61.5</td>\n",
              "      <td>390.0</td>\n",
              "      <td>540.0</td>\n",
              "    </tr>\n",
              "    <tr>\n",
              "      <th>3</th>\n",
              "      <td>Aston Martin</td>\n",
              "      <td>DB7</td>\n",
              "      <td>2003</td>\n",
              "      <td>Compact</td>\n",
              "      <td>141800</td>\n",
              "      <td>2 generation</td>\n",
              "      <td>GT Coupe</td>\n",
              "      <td>5.9 MT</td>\n",
              "      <td>Gas</td>\n",
              "      <td>0</td>\n",
              "      <td>NaN</td>\n",
              "      <td>4</td>\n",
              "      <td>19.6</td>\n",
              "      <td>390|540</td>\n",
              "      <td>22.6</td>\n",
              "      <td>95</td>\n",
              "      <td>16.5</td>\n",
              "      <td>7607.060910</td>\n",
              "      <td>61.5</td>\n",
              "      <td>390.0</td>\n",
              "      <td>540.0</td>\n",
              "    </tr>\n",
              "    <tr>\n",
              "      <th>4</th>\n",
              "      <td>Audi</td>\n",
              "      <td>A3</td>\n",
              "      <td>2016</td>\n",
              "      <td>Compact</td>\n",
              "      <td>34200</td>\n",
              "      <td>8V [redesign]</td>\n",
              "      <td>Cabriolet</td>\n",
              "      <td>1.4 TFSI MT</td>\n",
              "      <td>Gas</td>\n",
              "      <td>0</td>\n",
              "      <td>NaN</td>\n",
              "      <td>4</td>\n",
              "      <td>5.3</td>\n",
              "      <td>720|1,140</td>\n",
              "      <td>6.9</td>\n",
              "      <td>95</td>\n",
              "      <td>4.4</td>\n",
              "      <td>15174.721687</td>\n",
              "      <td>16.6</td>\n",
              "      <td>720.0</td>\n",
              "      <td>1140.0</td>\n",
              "    </tr>\n",
              "  </tbody>\n",
              "</table>\n",
              "</div>"
            ],
            "text/plain": [
              "           Make Model  Year  ... CO2_per_100km_kg  range_low range_high\n",
              "0  Aston Martin   DB7  2003  ...             61.5      390.0      540.0\n",
              "1  Aston Martin   DB7  2003  ...             61.5      390.0      540.0\n",
              "2  Aston Martin   DB7  2003  ...             61.5      390.0      540.0\n",
              "3  Aston Martin   DB7  2003  ...             61.5      390.0      540.0\n",
              "4          Audi    A3  2016  ...             16.6      720.0     1140.0\n",
              "\n",
              "[5 rows x 21 columns]"
            ]
          },
          "metadata": {},
          "execution_count": 25
        }
      ]
    },
    {
      "cell_type": "code",
      "metadata": {
        "colab": {
          "base_uri": "https://localhost:8080/"
        },
        "id": "TPlEuUaz2R5I",
        "outputId": "93fe4d5d-a48c-4992-d6cd-9852e7fee48c"
      },
      "source": [
        "# numerical columns\n",
        "fuel_col = [\"tax_credit\",\"mixed_fuel_consumption_per_100_km_l\",\"city_fuel_per_100km_l\",\"highway_fuel_per_100km_l\",\"CO2_per_100km_kg\",\"fuel_grade\"]\n",
        "num_col = [\"Year\",\"MSRP\",\"number_of_seats\"]\n",
        "cardata_num = cardata[[\"Year\",\"MSRP\", \"number_of_seats\"]]\n",
        "\n",
        "# numerical pipeline\n",
        "num_pipeline = Pipeline([\n",
        "        ('imputer', SimpleImputer(strategy=\"median\")),\n",
        "        ('std_scaler', StandardScaler()),\n",
        "    ])\n",
        "\n",
        "# categorical pipeline\n",
        "cat_pipeline = Pipeline(steps=[\n",
        "    ('imputer', SimpleImputer(strategy='most_frequent', fill_value='missing')),\n",
        "    ('encoder', OneHotEncoder(sparse=False,handle_unknown = 'ignore'))])\n",
        "\n",
        "from sklearn.compose import ColumnTransformer\n",
        "num_attribs = list(cardata_num)\n",
        "cat_attribs = cardata.drop(columns = num_col)\n",
        "cat_attribs = cat_attribs.drop(columns = fuel_col)\n",
        "cat_attribs = cat_attribs.drop(columns = 'engine_type')\n",
        "cat_attribs = cat_attribs.drop(columns = 'D_Price')\n",
        "cat_attribs = list(cat_attribs)\n",
        "\n",
        "# full pipeline\n",
        "full_pipeline = ColumnTransformer([\n",
        "        (\"num\", num_pipeline, num_attribs),\n",
        "        (\"cat\", cat_pipeline, cat_attribs),\n",
        "    ])\n",
        "\n",
        "# drop the columns that are too specific\n",
        "cardata_test = cardata.drop(columns = [\"tax_credit\",\"mixed_fuel_consumption_per_100_km_l\",\"city_fuel_per_100km_l\",\"highway_fuel_per_100km_l\",\"CO2_per_100km_kg\",\"fuel_grade\"])\n",
        "cardata_test = cardata_test.drop(columns = ['engine_type','D_Price'])\n",
        "print(cardata_test.shape)\n",
        "\n",
        "# put the data through the pipeline\n",
        "cardata_final = full_pipeline.fit_transform(cardata_test)\n",
        "cardata_final"
      ],
      "execution_count": null,
      "outputs": [
        {
          "output_type": "stream",
          "name": "stdout",
          "text": [
            "(13529, 13)\n"
          ]
        },
        {
          "output_type": "execute_result",
          "data": {
            "text/plain": [
              "array([[-3.54642899,  0.54981582, -0.90606421, ...,  0.        ,\n",
              "         0.        ,  0.        ],\n",
              "       [-3.54642899,  0.52542211, -0.90606421, ...,  0.        ,\n",
              "         0.        ,  0.        ],\n",
              "       [-3.54642899,  0.54981582, -0.90606421, ...,  0.        ,\n",
              "         0.        ,  0.        ],\n",
              "       ...,\n",
              "       [-0.27147   , -0.06598995,  0.34234629, ...,  0.        ,\n",
              "         0.        ,  0.        ],\n",
              "       [-0.27147   , -0.06598995,  0.34234629, ...,  0.        ,\n",
              "         0.        ,  0.        ],\n",
              "       [-0.27147   , -0.06598995,  0.34234629, ...,  0.        ,\n",
              "         0.        ,  0.        ]])"
            ]
          },
          "metadata": {},
          "execution_count": 26
        }
      ]
    },
    {
      "cell_type": "code",
      "metadata": {
        "id": "QBJvKVwNHJXs"
      },
      "source": [
        "#### Electric Car only Kmeans - turned out to be useless after experiement\n",
        "\n",
        "# # numerical columns\n",
        "# fuel_col = [\"tax_credit\",\"mixed_fuel_consumption_per_100_km_l\",\"city_fuel_per_100km_l\",\"highway_fuel_per_100km_l\",\"CO2_per_100km_kg\",\"fuel_grade\"]\n",
        "# num_col = [\"Year\",\"MSRP\",\"number_of_seats\"]\n",
        "# cardata_num = cardata[[\"Year\",\"MSRP\", \"number_of_seats\"]]\n",
        "\n",
        "# # numerical pipeline\n",
        "# num_pipeline = Pipeline([\n",
        "#         ('imputer', SimpleImputer(strategy=\"median\")),\n",
        "#         ('std_scaler', StandardScaler()),\n",
        "#     ])\n",
        "\n",
        "# # categorical pipeline\n",
        "# cat_pipeline = Pipeline(steps=[\n",
        "#     ('imputer', SimpleImputer(strategy='most_frequent', fill_value='missing')),\n",
        "#     ('encoder', OneHotEncoder(sparse=False,handle_unknown = 'ignore'))])\n",
        "\n",
        "# from sklearn.compose import ColumnTransformer\n",
        "# num_attribs = list(cardata_num)\n",
        "# cat_attribs = cardata.drop(columns = num_col)\n",
        "# cat_attribs = cat_attribs.drop(columns = fuel_col)\n",
        "# cat_attribs = cat_attribs.drop(columns = 'engine_type')\n",
        "# cat_attribs = cat_attribs.drop(columns = 'D_Price')\n",
        "# cat_attribs = list(cat_attribs)\n",
        "\n",
        "# # full pipeline\n",
        "# full_pipeline = ColumnTransformer([\n",
        "#         (\"num\", num_pipeline, num_attribs),\n",
        "#         (\"cat\", cat_pipeline, cat_attribs),\n",
        "#     ])\n",
        "\n",
        "# # Drop the columns that are too specific\n",
        "# cardata_test = cardata.drop(columns = [\"tax_credit\",\"mixed_fuel_consumption_per_100_km_l\",\"city_fuel_per_100km_l\",\"highway_fuel_per_100km_l\",\"CO2_per_100km_kg\",\"fuel_grade\"])\n",
        "# cardata_test = cardata_test.drop(columns = ['engine_type','D_Price'])\n",
        "# cardata_test_2 = cardata_test[cardata_test['whether_recommended'] > 0]\n",
        "# print(cardata_test_2.shape)\n",
        "\n",
        "# # put the data through the pipeline\n",
        "# cardata_final = full_pipeline.fit_transform(cardata_test_2)\n",
        "# cardata_final"
      ],
      "execution_count": null,
      "outputs": []
    },
    {
      "cell_type": "markdown",
      "metadata": {
        "id": "viqV-E9Ko4t-"
      },
      "source": [
        "# K-Means"
      ]
    },
    {
      "cell_type": "markdown",
      "metadata": {
        "id": "-cd2ubjSuJs9"
      },
      "source": [
        "**K Means Elbow Plot**"
      ]
    },
    {
      "cell_type": "code",
      "metadata": {
        "id": "pgU8CUiFQNJP"
      },
      "source": [
        "from sklearn.cluster import KMeans\n",
        "\n",
        "# test a range of k values \n",
        "Sum_of_squared_distances = []\n",
        "K = range(1,15)\n",
        "for k in K:\n",
        "    km = KMeans(n_clusters=k)\n",
        "    km = km.fit(cardata_final)\n",
        "    Sum_of_squared_distances.append(km.inertia_)"
      ],
      "execution_count": null,
      "outputs": []
    },
    {
      "cell_type": "code",
      "metadata": {
        "colab": {
          "base_uri": "https://localhost:8080/",
          "height": 295
        },
        "id": "E6gOnSPSQSyP",
        "outputId": "37f3fc43-2106-44f7-9cac-8097a652dd97"
      },
      "source": [
        "# plot SSE vs K to determine the optimal k value \n",
        "plt.plot(K, Sum_of_squared_distances, 'bx-')\n",
        "plt.xlabel('k')\n",
        "plt.ylabel('Sum_of_squared_distances')\n",
        "plt.title('Elbow Method For Optimal k')\n",
        "plt.show()"
      ],
      "execution_count": null,
      "outputs": [
        {
          "output_type": "display_data",
          "data": {
            "image/png": "[encoded data removed]",
            "text/plain": [
              "<Figure size 432x288 with 1 Axes>"
            ]
          },
          "metadata": {
            "needs_background": "light"
          }
        }
      ]
    },
    {
      "cell_type": "code",
      "metadata": {
        "id": "xTBvTkw0RWHv"
      },
      "source": [
        "k = 5\n",
        "# fit the k-means model \n",
        "kmeans = KMeans(n_clusters=k, random_state=42)\n",
        "y_pred = kmeans.fit_predict(cardata_final)"
      ],
      "execution_count": null,
      "outputs": []
    },
    {
      "cell_type": "code",
      "metadata": {
        "colab": {
          "base_uri": "https://localhost:8080/"
        },
        "id": "Mit_GBqERXfT",
        "outputId": "92b7caa5-a94e-48d1-8451-eea705da1712"
      },
      "source": [
        "# make predictions\n",
        "y_pred"
      ],
      "execution_count": null,
      "outputs": [
        {
          "output_type": "execute_result",
          "data": {
            "text/plain": [
              "array([0, 0, 0, ..., 2, 2, 2], dtype=int32)"
            ]
          },
          "metadata": {},
          "execution_count": 28
        }
      ]
    },
    {
      "cell_type": "code",
      "metadata": {
        "colab": {
          "base_uri": "https://localhost:8080/"
        },
        "id": "MKVDs8rJRY6i",
        "outputId": "74a6b1b2-2172-44e9-a94a-f817e091a55a"
      },
      "source": [
        "# centroids\n",
        "kmeans.cluster_centers_"
      ],
      "execution_count": null,
      "outputs": [
        {
          "output_type": "execute_result",
          "data": {
            "text/plain": [
              "array([[-3.81274133e+00, -1.95007474e-01,  3.40437405e-01, ...,\n",
              "        -9.97465999e-18, -5.42101086e-18,  1.08420217e-19],\n",
              "       [ 1.05010396e-01, -1.28736519e-01,  1.62984760e-01, ...,\n",
              "         8.89045781e-17, -7.58941521e-18, -8.51098705e-18],\n",
              "       [ 2.60088556e-01,  3.51560667e-03,  1.85864653e-01, ...,\n",
              "         3.38430684e-03,  2.25620456e-03,  6.26723490e-04],\n",
              "       [ 9.19424177e-01,  1.13539875e+02, -3.40288521e+00, ...,\n",
              "         0.00000000e+00,  0.00000000e+00,  0.00000000e+00],\n",
              "       [ 2.55178180e-02,  3.78875920e-01, -1.89636018e+00, ...,\n",
              "         7.80625564e-18, -6.72205347e-18,  2.92734587e-18]])"
            ]
          },
          "metadata": {},
          "execution_count": 29
        }
      ]
    },
    {
      "cell_type": "markdown",
      "metadata": {
        "id": "CED__kCCLDC3"
      },
      "source": [
        "**Main Function**"
      ]
    },
    {
      "cell_type": "code",
      "metadata": {
        "id": "Gm5oxOsFuDnd"
      },
      "source": [
        "@anvil.server.callable\n",
        "def calculate(Price, Year, Seat, Size):\n",
        "  # values need for later calculations\n",
        "  target = [[None,None,Year, Size,Price, None, None, None, 1, Seat,None, None,None]]\n",
        "  target= pd.DataFrame(target, columns=['Make','Model','Year','Vehicle.Size','MSRP','generation','series','trim','whether_recommended','number_of_seats','range_km','range_low','range_high'])\n",
        "\n",
        "  # put the data through the pipeline\n",
        "  target_transformed = full_pipeline.transform(target)\n",
        "\n",
        "  # make predictions\n",
        "  y_pred = kmeans.predict(target_transformed)\n",
        "  car_label = y_pred[0]\n",
        "\n",
        "  # get the cars in the second cluster (unscaled data)\n",
        "  cluster_unscaled = cardata.iloc[np.where(kmeans.labels_==car_label)]\n",
        "  cluster_unscaled\n",
        "\n",
        "  # get the car that's hybrid or electric in the cluster\n",
        "  EV_cluster = cluster_unscaled[cluster_unscaled['whether_recommended'] == 1]\n",
        "  EV_cluster_index = EV_cluster.index\n",
        "  EV_cluster_index\n",
        "\n",
        "  # find EV the most similar to the car the user input \n",
        "  # need to find the lowest value in the similarity index BUT need to make sure the car is electric or hybrid \n",
        "  min = float('inf')\n",
        "  min_index = 0\n",
        "  for index in EV_cluster_index:\n",
        "    car_index_data = cardata_final[index]\n",
        "    distance = np.linalg.norm(target_transformed-car_index_data)\n",
        "    if distance < min:\n",
        "      min = distance\n",
        "      min_index = index\n",
        "  if min_index == 0:\n",
        "    min_index = 5360\n",
        "  car_recommended = pd.DataFrame(cardata.iloc[[min_index]])\n",
        "\n",
        "  # extract features from the recommended car\n",
        "  make=list(car_recommended['Make'])[0]\n",
        "  model=list(car_recommended['Model'])[0]\n",
        "  year=list(car_recommended['Year'])[0]\n",
        "  size=list(car_recommended['Vehicle.Size'])[0]\n",
        "  price=list(car_recommended['MSRP'])[0]\n",
        "  number_of_seats=list(car_recommended['number_of_seats'])[0]\n",
        "  tax_credit=list(car_recommended['tax_credit'])[0]\n",
        "  fuel=list(car_recommended['mixed_fuel_consumption_per_100_km_l'])[0]\n",
        "  rec=list(car_recommended['whether_recommended'])[0]\n",
        "  co2=list(car_recommended['CO2_per_100km_kg'])[0]\n",
        "\n",
        "  # calculate cost and emissions savings\n",
        "  if str(tax_credit)=='nan':\n",
        "    tax_credit=0\n",
        "  if str(fuel)=='nan':\n",
        "    fuel=0\n",
        "  fuel=round((9.28-fuel)/3.78,2)\n",
        "  co2=round(31.81-co2,2)\n",
        "  l=0.866\n",
        "  money = round(11824/60*fuel*3.262,2)\n",
        "  # columns=['Make','Model','Year','Vehicle.Size','MSRP','generation','series','trim','whether_recommended','number_of_seats','range_km''range_low','range_high']\n",
        "  s1=\"Make: \"+ make+\"; Model: \"+model+ \"; Year: \"+str(year)+\"; Size: \"+size+\"; Price: \"+str(price)+\"; Number of Seats: \"+str(number_of_seats)\n",
        "  s2=\"You earn the tax credit of $\" +str(tax_credit)\n",
        "  #s3= \"On average, you will be able to save \"+str(fuel)+\" gallons of fuel per 60 miles.\"\n",
        "  s4= \"On average, you will save \"+str(co2)+\"kgs of CO2 per 60 miles compared to a similar gasoline-powered car.\"\n",
        "  s5= \"On average, you will be able to save $\"+str(money)+\" per year in fuel costs!\" \n",
        "  return s1,s2,s4,s5\n"
      ],
      "execution_count": null,
      "outputs": []
    },
    {
      "cell_type": "code",
      "metadata": {
        "colab": {
          "base_uri": "https://localhost:8080/"
        },
        "id": "hu6OPE3x5HSR",
        "outputId": "de0a5cc1-1d53-4277-8785-9db2c32eedc8"
      },
      "source": [
        "# test the model with sample user input\n",
        "calculate(40000,2020,7,'Large')"
      ],
      "execution_count": null,
      "outputs": [
        {
          "output_type": "execute_result",
          "data": {
            "text/plain": [
              "('Make: Infiniti; Model: QX60; Year: 2016; Size: Large; Price: 42600; Number of Seats: 7',\n",
              " 'You earn the tax credit of $0.0',\n",
              " 'On average, you will save 5.11kgs of CO2 per 60 miles compared to a similar gasoline-powered car.',\n",
              " 'On average, you will be able to save $134.99 per year in fuel costs!')"
            ]
          },
          "metadata": {},
          "execution_count": 49
        }
      ]
    },
    {
      "cell_type": "markdown",
      "metadata": {
        "id": "GGyoobXAGnLF"
      },
      "source": [
        "# BIRCH"
      ]
    },
    {
      "cell_type": "code",
      "metadata": {
        "id": "nCZImPPUSA3d"
      },
      "source": [
        "from sklearn.cluster import Birch\n",
        "brc = Birch(n_clusters=5)\n",
        "brc.fit(cardata_final) \n",
        "\n",
        "# same function as above, but with BIRCH as the clustering algorithm instead of K Means\n",
        "def calculate_brc(Price, Year, Seat, Size):\n",
        "  target = [[None,None,Year, Size,Price, None, None, None, 1, Seat,None, None,None]]\n",
        "  target= pd.DataFrame(target, columns=['Make','Model','Year','Vehicle.Size','MSRP','generation','series','trim','whether_recommended','number_of_seats','range_km','range_low','range_high'])\n",
        "\n",
        "  # put the data through the pipeline\n",
        "  target_transformed = full_pipeline.transform(target)\n",
        "\n",
        "  # make predictions\n",
        "  y_pred = brc.predict(target_transformed)\n",
        "  car_label = y_pred[0]\n",
        "\n",
        "  # get the cars in the second cluster (unscaled data)\n",
        "  cluster_unscaled = cardata.iloc[np.where(kmeans.labels_==car_label)]\n",
        "  cluster_unscaled\n",
        "\n",
        "  # get the car that's hybrid or electric in the cluster\n",
        "  EV_cluster = cluster_unscaled[cluster_unscaled['whether_recommended'] == 1]\n",
        "  EV_cluster_index = EV_cluster.index\n",
        "  EV_cluster_index\n",
        "\n",
        "  # find EV the most similar to the car the user input \n",
        "  # need to find the lowest value in the similarity index BUT need to make sure the car is electric or hybrid \n",
        "  min = float('inf')\n",
        "  min_index = 0\n",
        "  for index in EV_cluster_index:\n",
        "    car_index_data = cardata_final[index]\n",
        "    distance = np.linalg.norm(target_transformed-car_index_data)\n",
        "    if distance < min:\n",
        "      min = distance\n",
        "      min_index = index\n",
        "  if min_index == 0:\n",
        "    min_index = 5360\n",
        "  car_recommended = pd.DataFrame(cardata.iloc[[min_index]])\n",
        "\n",
        "  # extract features from the recommended car\n",
        "  make=list(car_recommended['Make'])[0]\n",
        "  model=list(car_recommended['Model'])[0]\n",
        "  year=list(car_recommended['Year'])[0]\n",
        "  size=list(car_recommended['Vehicle.Size'])[0]\n",
        "  price=list(car_recommended['MSRP'])[0]\n",
        "  number_of_seats=list(car_recommended['number_of_seats'])[0]\n",
        "  tax_credit=list(car_recommended['tax_credit'])[0]\n",
        "  fuel=list(car_recommended['mixed_fuel_consumption_per_100_km_l'])[0]\n",
        "  rec=list(car_recommended['whether_recommended'])[0]\n",
        "  co2=list(car_recommended['CO2_per_100km_kg'])[0]\n",
        "\n",
        "  # calculate cost and emissions savings\n",
        "  if str(tax_credit)=='nan':\n",
        "    tax_credit=0\n",
        "  if str(fuel)=='nan':\n",
        "    fuel=0\n",
        "  fuel=round((9.28-fuel)/3.78,2)\n",
        "  co2=round(31.81-co2,2)\n",
        "  l=0.866\n",
        "  money = round(11824/60*fuel*3.262,2)\n",
        "  # columns=['Make','Model','Year','Vehicle.Size','MSRP','generation','series','trim','whether_recommended','number_of_seats','range_km''range_low','range_high']\n",
        "  s1=\"Make: \"+ make+\"; Model: \"+model+ \"; Year: \"+str(year)+\"; Size: \"+size+\"; Price: \"+str(price)+\"; Number of Seats: \"+str(number_of_seats)\n",
        "  s2=\"You earn the tax credit of $\" +str(tax_credit)\n",
        "  #s3= \"On average, you will be able to save \"+str(fuel)+\" gallons of fuel per 60 miles.\"\n",
        "  s4= \"On average, you will save \"+str(co2)+\"kgs of CO2 per 60 miles compared to a similar gasoline-powered car.\"\n",
        "  s5= \"On average, you will be able to save $\"+str(money)+\" per year in fuel costs!\" \n",
        "  return s1,s2,s4,s5\n"
      ],
      "execution_count": null,
      "outputs": []
    },
    {
      "cell_type": "code",
      "metadata": {
        "colab": {
          "base_uri": "https://localhost:8080/"
        },
        "id": "9SCsrqOKU4Ve",
        "outputId": "ed4da13c-c7c8-4b23-f1e7-77d5d41c26c3"
      },
      "source": [
        "# test the model with sample user input\n",
        "calculate_brc(40000,2020,7,'Large')"
      ],
      "execution_count": null,
      "outputs": [
        {
          "output_type": "execute_result",
          "data": {
            "text/plain": [
              "('Make: Nissan; Model: Leaf; Year: 2017; Size: Compact; Price: 27400; Number of Seats: 5',\n",
              " 'You earn the tax credit of $7500.0',\n",
              " 'On average, you will save 31.81kgs of CO2 per 60 miles compared to a similar gasoline-powered car.',\n",
              " 'On average, you will be able to save $1581.37 per year in fuel costs!')"
            ]
          },
          "metadata": {},
          "execution_count": 50
        }
      ]
    },
    {
      "cell_type": "markdown",
      "metadata": {
        "id": "nwtLwjJXR5cf"
      },
      "source": [
        "# Mean Shift"
      ]
    },
    {
      "cell_type": "code",
      "metadata": {
        "id": "d8eavRUsYtUC"
      },
      "source": [
        "from sklearn.cluster import MeanShift\n",
        "mea = MeanShift(bandwidth=2).fit(cardata_final)\n",
        "\n",
        "# same function as above, but with mean shift as the clustering algorithm instead of K Means\n",
        "def calculate_mea(Price, Year, Seat, Size):\n",
        "  target = [[None,None,Year, Size,Price, None, None, None, 1, Seat,None, None,None]]\n",
        "  target= pd.DataFrame(target, columns=['Make','Model','Year','Vehicle.Size','MSRP','generation','series','trim','whether_recommended','number_of_seats','range_km','range_low','range_high'])\n",
        "\n",
        "  # put the data through the pipeline\n",
        "  target_transformed = full_pipeline.transform(target)\n",
        "\n",
        "  # make predictions\n",
        "  y_pred = mea.predict(target_transformed)\n",
        "  car_label = y_pred[0]\n",
        "\n",
        "  # get the cars in the second cluster (unscaled data)\n",
        "  cluster_unscaled = cardata.iloc[np.where(kmeans.labels_==car_label)]\n",
        "  cluster_unscaled\n",
        "\n",
        "  # get the car that's hybrid or electric in the cluster\n",
        "  EV_cluster = cluster_unscaled[cluster_unscaled['whether_recommended'] == 1]\n",
        "  EV_cluster_index = EV_cluster.index\n",
        "  EV_cluster_index\n",
        "\n",
        "  # find EV the most similar to the car the user input \n",
        "  # need to find the lowest value in the similarity index BUT need to make sure the car is electric or hybrid \n",
        "  min = float('inf')\n",
        "  min_index = 0\n",
        "  for index in EV_cluster_index:\n",
        "    car_index_data = cardata_final[index]\n",
        "    distance = np.linalg.norm(target_transformed-car_index_data)\n",
        "    if distance < min:\n",
        "      min = distance\n",
        "      min_index = index\n",
        "  if min_index == 0:\n",
        "    min_index = 5360\n",
        "  car_recommended = pd.DataFrame(cardata.iloc[[min_index]])\n",
        "\n",
        "  # extract features from the recommended car \n",
        "  make=list(car_recommended['Make'])[0]\n",
        "  model=list(car_recommended['Model'])[0]\n",
        "  year=list(car_recommended['Year'])[0]\n",
        "  size=list(car_recommended['Vehicle.Size'])[0]\n",
        "  price=list(car_recommended['MSRP'])[0]\n",
        "  number_of_seats=list(car_recommended['number_of_seats'])[0]\n",
        "  tax_credit=list(car_recommended['tax_credit'])[0]\n",
        "  fuel=list(car_recommended['mixed_fuel_consumption_per_100_km_l'])[0]\n",
        "  rec=list(car_recommended['whether_recommended'])[0]\n",
        "  co2=list(car_recommended['CO2_per_100km_kg'])[0]\n",
        " \n",
        "  # calculate cost and emissions savings\n",
        "  if str(tax_credit)=='nan':\n",
        "    tax_credit=0\n",
        "  if str(fuel)=='nan':\n",
        "    fuel=0\n",
        "  fuel=round((9.28-fuel)/3.78,2)\n",
        "  co2=round(31.81-co2,2)\n",
        "  l=0.866\n",
        "  money = round(11824/60*fuel*3.262,2)\n",
        "  # columns=['Make','Model','Year','Vehicle.Size','MSRP','generation','series','trim','whether_recommended','number_of_seats','range_km''range_low','range_high']\n",
        "  s1=\"Make: \"+ make+\"; Model: \"+model+ \"; Year: \"+str(year)+\"; Size: \"+size+\"; Price: \"+str(price)+\"; Number of Seats: \"+str(number_of_seats)\n",
        "  s2=\"You earn the tax credit of $\" +str(tax_credit)\n",
        "  #s3= \"On average, you will be able to save \"+str(fuel)+\" gallons of fuel per 60 miles.\"\n",
        "  s4= \"On average, you will save \"+str(co2)+\"kgs of CO2 per 60 miles compared to a similar gasoline-powered car.\"\n",
        "  s5= \"On average, you will be able to save $\"+str(money)+\" per year in fuel costs!\" \n",
        "  return s1,s2,s4,s5"
      ],
      "execution_count": null,
      "outputs": []
    },
    {
      "cell_type": "code",
      "metadata": {
        "id": "R2kXPuetqbdi",
        "colab": {
          "base_uri": "https://localhost:8080/"
        },
        "outputId": "7707a54d-7075-4da4-b0d3-606894dfbfe8"
      },
      "source": [
        "calculate_mea(40000,2020,7,'Large')"
      ],
      "execution_count": null,
      "outputs": [
        {
          "output_type": "execute_result",
          "data": {
            "text/plain": [
              "('Make: Smart; Model: Fortwo; Year: 2014; Size: Compact; Price: 28750; Number of Seats: 2',\n",
              " 'You earn the tax credit of $7500.0',\n",
              " 'On average, you will save 31.81kgs of CO2 per 60 miles compared to a similar gasoline-powered car.',\n",
              " 'On average, you will be able to save $1581.37 per year in fuel costs!')"
            ]
          },
          "metadata": {},
          "execution_count": 54
        }
      ]
    },
    {
      "cell_type": "markdown",
      "metadata": {
        "id": "YJWPapH6VaTc"
      },
      "source": [
        "# User Interface"
      ]
    },
    {
      "cell_type": "code",
      "metadata": {
        "id": "K3CKVd1fNj46"
      },
      "source": [
        "# keep the server running\n",
        "anvil.server.wait_forever()"
      ],
      "execution_count": null,
      "outputs": []
    }
  ]
}